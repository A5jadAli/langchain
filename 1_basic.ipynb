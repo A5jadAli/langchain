{
 "cells": [
  {
   "cell_type": "markdown",
   "metadata": {},
   "source": [
    "## LangChain Overview"
   ]
  },
  {
   "cell_type": "code",
   "execution_count": null,
   "metadata": {},
   "outputs": [],
   "source": [
    "from dotenv import load_dotenv\n",
    "load_dotenv()"
   ]
  },
  {
   "cell_type": "code",
   "execution_count": null,
   "metadata": {},
   "outputs": [],
   "source": [
    "from langchain_anthropic import ChatAnthropic\n",
    "llm_claude = ChatAnthropic(model=\"claude-3-opus-20240229\")\n",
    "\n",
    "from langchain_openai import ChatOpenAI\n",
    "llm_gpt = ChatOpenAI(model=\"gpt-3.5-turbo\")"
   ]
  },
  {
   "cell_type": "code",
   "execution_count": null,
   "metadata": {},
   "outputs": [],
   "source": [
    "llm_claude.invoke(\"What is LangChain?\").content"
   ]
  },
  {
   "cell_type": "code",
   "execution_count": null,
   "metadata": {},
   "outputs": [],
   "source": [
    "llm_gpt.invoke(\"What is LangChain?\").content"
   ]
  },
  {
   "cell_type": "code",
   "execution_count": 12,
   "metadata": {},
   "outputs": [],
   "source": [
    "system_message = \"\"\"You explain things to the people like they are five years old.\"\"\"\n",
    "user_prompt = f\"What is LangChain?\""
   ]
  },
  {
   "cell_type": "code",
   "execution_count": 13,
   "metadata": {},
   "outputs": [],
   "source": [
    "from langchain_core.messages import HumanMessage, SystemMessage\n",
    "import textwrap\n",
    "\n",
    "messages = [\n",
    "    SystemMessage(content=system_message),\n",
    "    HumanMessage(content=user_prompt)\n",
    "]"
   ]
  },
  {
   "cell_type": "code",
   "execution_count": 15,
   "metadata": {},
   "outputs": [
    {
     "name": "stdout",
     "output_type": "stream",
     "text": [
      "Imagine you have a really big toy box full of different toys. LangChain is like a special toy that\n",
      "helps you connect and play with all your other toys in new and exciting ways.  Just like how you can\n",
      "build things by putting your toys together, LangChain helps grown-ups build things called\n",
      "\"applications\" by connecting different pieces of computer programs together. It's like a magical\n",
      "glue that lets them stick different parts together easily.  With LangChain, grown-ups can make their\n",
      "computer programs talk to each other, share information, and work together to do cool stuff. It's\n",
      "like when you and your friends play together and come up with new games by combining your toys and\n",
      "ideas.  So, LangChain is a helpful tool that makes it easier for grown-ups to build bigger and\n",
      "better things with their computer toys, just like how you can create awesome playtimes by mixing and\n",
      "matching your toys in fun ways.\n"
     ]
    }
   ],
   "source": [
    "response = llm_claude.invoke(messages)\n",
    "answer = textwrap.fill(response.content, width=100)\n",
    "print(answer)"
   ]
  }
 ],
 "metadata": {
  "kernelspec": {
   "display_name": "langchain_env",
   "language": "python",
   "name": "python3"
  },
  "language_info": {
   "codemirror_mode": {
    "name": "ipython",
    "version": 3
   },
   "file_extension": ".py",
   "mimetype": "text/x-python",
   "name": "python",
   "nbconvert_exporter": "python",
   "pygments_lexer": "ipython3",
   "version": "3.12.4"
  }
 },
 "nbformat": 4,
 "nbformat_minor": 2
}
